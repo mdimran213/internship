{
 "cells": [
  {
   "cell_type": "code",
   "execution_count": 1,
   "id": "dbfce637",
   "metadata": {},
   "outputs": [],
   "source": [
    "import pandas as pd\n",
    "import numpy as np\n",
    "import warnings\n",
    "warnings.filterwarnings('ignore')"
   ]
  },
  {
   "cell_type": "code",
   "execution_count": 2,
   "id": "577ea8d6",
   "metadata": {},
   "outputs": [],
   "source": [
    "df = pd.read_csv('SOCR-HeightWeight.csv')"
   ]
  },
  {
   "cell_type": "code",
   "execution_count": 3,
   "id": "22323459",
   "metadata": {},
   "outputs": [
    {
     "data": {
      "text/html": [
       "<div>\n",
       "<style scoped>\n",
       "    .dataframe tbody tr th:only-of-type {\n",
       "        vertical-align: middle;\n",
       "    }\n",
       "\n",
       "    .dataframe tbody tr th {\n",
       "        vertical-align: top;\n",
       "    }\n",
       "\n",
       "    .dataframe thead th {\n",
       "        text-align: right;\n",
       "    }\n",
       "</style>\n",
       "<table border=\"1\" class=\"dataframe\">\n",
       "  <thead>\n",
       "    <tr style=\"text-align: right;\">\n",
       "      <th></th>\n",
       "      <th>Index</th>\n",
       "      <th>Height(Inches)</th>\n",
       "      <th>Weight(Pounds)</th>\n",
       "    </tr>\n",
       "  </thead>\n",
       "  <tbody>\n",
       "    <tr>\n",
       "      <th>0</th>\n",
       "      <td>1</td>\n",
       "      <td>65.78331</td>\n",
       "      <td>112.9925</td>\n",
       "    </tr>\n",
       "    <tr>\n",
       "      <th>1</th>\n",
       "      <td>2</td>\n",
       "      <td>71.51521</td>\n",
       "      <td>136.4873</td>\n",
       "    </tr>\n",
       "    <tr>\n",
       "      <th>2</th>\n",
       "      <td>3</td>\n",
       "      <td>69.39874</td>\n",
       "      <td>153.0269</td>\n",
       "    </tr>\n",
       "    <tr>\n",
       "      <th>3</th>\n",
       "      <td>4</td>\n",
       "      <td>68.21660</td>\n",
       "      <td>142.3354</td>\n",
       "    </tr>\n",
       "    <tr>\n",
       "      <th>4</th>\n",
       "      <td>5</td>\n",
       "      <td>67.78781</td>\n",
       "      <td>144.2971</td>\n",
       "    </tr>\n",
       "  </tbody>\n",
       "</table>\n",
       "</div>"
      ],
      "text/plain": [
       "   Index  Height(Inches)  Weight(Pounds)\n",
       "0      1        65.78331        112.9925\n",
       "1      2        71.51521        136.4873\n",
       "2      3        69.39874        153.0269\n",
       "3      4        68.21660        142.3354\n",
       "4      5        67.78781        144.2971"
      ]
     },
     "execution_count": 3,
     "metadata": {},
     "output_type": "execute_result"
    }
   ],
   "source": [
    "df.head()"
   ]
  },
  {
   "cell_type": "code",
   "execution_count": 4,
   "id": "8e29cd61",
   "metadata": {},
   "outputs": [
    {
     "name": "stdout",
     "output_type": "stream",
     "text": [
      "<class 'pandas.core.frame.DataFrame'>\n",
      "RangeIndex: 25000 entries, 0 to 24999\n",
      "Data columns (total 3 columns):\n",
      " #   Column          Non-Null Count  Dtype  \n",
      "---  ------          --------------  -----  \n",
      " 0   Index           25000 non-null  int64  \n",
      " 1   Height(Inches)  25000 non-null  float64\n",
      " 2   Weight(Pounds)  25000 non-null  float64\n",
      "dtypes: float64(2), int64(1)\n",
      "memory usage: 586.1 KB\n"
     ]
    }
   ],
   "source": [
    "df.info()"
   ]
  },
  {
   "cell_type": "code",
   "execution_count": 5,
   "id": "28fc6a1a",
   "metadata": {},
   "outputs": [
    {
     "data": {
      "text/plain": [
       "Index             0\n",
       "Height(Inches)    0\n",
       "Weight(Pounds)    0\n",
       "dtype: int64"
      ]
     },
     "execution_count": 5,
     "metadata": {},
     "output_type": "execute_result"
    }
   ],
   "source": [
    "df.isnull().sum()"
   ]
  },
  {
   "cell_type": "code",
   "execution_count": 6,
   "id": "b00b0581",
   "metadata": {},
   "outputs": [],
   "source": [
    "#Separating the independent and dependent features\n",
    "#Dependent feature\n",
    "y = np.asarray(df['Weight(Pounds)'].values.tolist()) \n",
    "\n",
    "# Independent Feature\n",
    "X = np.asarray(df['Height(Inches)'].values.tolist())"
   ]
  },
  {
   "cell_type": "code",
   "execution_count": 7,
   "id": "bdae2e94",
   "metadata": {},
   "outputs": [],
   "source": [
    "# Reshaping the independent feature\n",
    "X = X.reshape(-1,1)"
   ]
  },
  {
   "cell_type": "code",
   "execution_count": 8,
   "id": "0e765705",
   "metadata": {},
   "outputs": [],
   "source": [
    "#Reshaping the Dependent features\n",
    "y = y.reshape(len(y),1 ) # Changing the shape from (50,) to (50,1)"
   ]
  },
  {
   "cell_type": "code",
   "execution_count": 9,
   "id": "235979c8",
   "metadata": {},
   "outputs": [
    {
     "name": "stdout",
     "output_type": "stream",
     "text": [
      "The shape of the independent fatures are  (25000, 1)\n",
      "The shape of the dependent fatures are  (25000, 1)\n"
     ]
    }
   ],
   "source": [
    "#Get the shapes of X and y\n",
    "print(\"The shape of the independent fatures are \",X.shape)\n",
    "print(\"The shape of the dependent fatures are \",y.shape)"
   ]
  },
  {
   "cell_type": "code",
   "execution_count": 10,
   "id": "851ae181",
   "metadata": {},
   "outputs": [],
   "source": [
    "#The method \"poly_features\" concatenates polynomials of independent feature to X\n",
    "# This is similar to PolynomialFeatures class from sklearn.preprocessing\n",
    "def poly_features(features, X):\n",
    "  data = pd.DataFrame(np.zeros((X.shape[0],features)))\n",
    "  for i in range(1,features+1):\n",
    "    data.iloc[:,i-1] = (X**i).reshape(-1,1)\n",
    "  X_poly = np.array(data.values.tolist())\n",
    "  return X_poly"
   ]
  },
  {
   "cell_type": "code",
   "execution_count": 11,
   "id": "079f8aa1",
   "metadata": {},
   "outputs": [],
   "source": [
    "# The method \"split_data\" splits the given dataset into trainset and testset\n",
    "# This is similar to the method \"train_test_split\" from \"sklearn.model_selection\"\n",
    "def split_data(X,y,test_size=0.2,random_state=0):\n",
    "    np.random.seed(random_state)                  #set the seed for reproducible results\n",
    "    indices = np.random.permutation(len(X))       #shuffling the indices\n",
    "    data_test_size = int(X.shape[0] * test_size)  #Get the test size\n",
    "\n",
    "    #Separating the Independent and Dependent features into the Train and Test Set\n",
    "    train_indices = indices[data_test_size:]\n",
    "    test_indices = indices[:data_test_size]\n",
    "    X_train = X[train_indices]\n",
    "    y_train = y[train_indices]\n",
    "    X_test = X[test_indices]\n",
    "    y_test = y[test_indices]\n",
    "    return X_train, y_train, X_test, y_test"
   ]
  },
  {
   "cell_type": "code",
   "execution_count": 12,
   "id": "028ee0bc",
   "metadata": {},
   "outputs": [],
   "source": [
    "class polynomialRegression():\n",
    "\n",
    "  def __init__(self):\n",
    "    #No instance Variables required\n",
    "    pass\n",
    "\n",
    "  def forward(self,X,y,W):\n",
    "    \"\"\"\n",
    "    Parameters:\n",
    "    X (array) : Independent Features\n",
    "    y (array) : Dependent Features/ Target Variable\n",
    "    W (array) : Weights \n",
    "\n",
    "    Returns:\n",
    "    loss (float) : Calculated Sqaured Error Loss for y and y_pred\n",
    "    y_pred (array) : Predicted Target Variable\n",
    "    \"\"\"\n",
    "    y_pred = sum(W * X)\n",
    "    loss = ((y_pred-y)**2)/2    #Loss = Squared Error, we introduce 1/2 for ease in the calculation\n",
    "    return loss, y_pred\n",
    "\n",
    "  def updateWeights(self,X,y_pred,y_true,W,alpha,index):\n",
    "    \"\"\"\n",
    "    Parameters:\n",
    "    X (array) : Independent Features\n",
    "    y_pred (array) : Predicted Target Variable\n",
    "    y_true (array) : Dependent Features/ Target Variable\n",
    "    W (array) : Weights\n",
    "    alpha (float) : learning rate\n",
    "    index (int) : Index to fetch the corresponding values of W, X and y \n",
    "\n",
    "    Returns:\n",
    "    W (array) : Update Values of Weight\n",
    "    \"\"\"\n",
    "    for i in range(X.shape[1]):\n",
    "      #alpha = learning rate, rest of the RHS is derivative of loss function\n",
    "      W[i] -= (alpha * (y_pred-y_true[index])*X[index][i]) \n",
    "    return W\n",
    "\n",
    "  def train(self, X, y, epochs=10, alpha=0.001, random_state=0):\n",
    "    \"\"\"\n",
    "    Parameters:\n",
    "    X (array) : Independent Feature\n",
    "    y (array) : Dependent Features/ Target Variable\n",
    "    epochs (int) : Number of epochs for training, default value is 10\n",
    "    alpha (float) : learning rate, default value is 0.001\n",
    "\n",
    "    Returns:\n",
    "    y_pred (array) : Predicted Target Variable\n",
    "    loss (float) : Calculated Sqaured Error Loss for y and y_pred\n",
    "    \"\"\"\n",
    "\n",
    "    num_rows = X.shape[0] #Number of Rows\n",
    "    num_cols = X.shape[1] #Number of Columns \n",
    "    W = np.random.randn(1,num_cols) / np.sqrt(num_rows) #Weight Initialization\n",
    "\n",
    "    #Calculating Loss and Updating Weights\n",
    "    train_loss = []\n",
    "    num_epochs = []\n",
    "    train_indices = [i for i in range(X.shape[0])]\n",
    "    for j in range(epochs):\n",
    "      cost=0\n",
    "      np.random.seed(random_state)\n",
    "      np.random.shuffle(train_indices)\n",
    "      for i in train_indices:\n",
    "        loss, y_pred = self.forward(X[i],y[i],W[0])\n",
    "        cost+=loss\n",
    "        W[0] = self.updateWeights(X,y_pred,y,W[0],alpha,i)\n",
    "      train_loss.append(cost)\n",
    "      num_epochs.append(j)\n",
    "    return W[0], train_loss, num_epochs\n",
    "\n",
    "  def test(self, X_test, y_test, W_trained):\n",
    "    \"\"\"\n",
    "    Parameters:\n",
    "    X_test (array) : Independent Features from the Test Set\n",
    "    y_test (array) : Dependent Features/ Target Variable from the Test Set\n",
    "    W_trained (array) : Trained Weights\n",
    "    test_indices (list) : Index to fetch the corresponding values of W_trained,\n",
    "                          X_test and y_test \n",
    "\n",
    "    Returns:\n",
    "    test_pred (list) : Predicted Target Variable\n",
    "    test_loss (list) : Calculated Sqaured Error Loss for y and y_pred\n",
    "    \"\"\"\n",
    "    test_pred = []\n",
    "    test_loss = []\n",
    "    test_indices = [i for i in range(X_test.shape[0])]\n",
    "    for i in test_indices:\n",
    "        loss, y_test_pred = self.forward(X_test[i], W_trained, y_test[i])\n",
    "        test_pred.append(y_test_pred)\n",
    "        test_loss.append(loss)\n",
    "    return test_pred, test_loss\n",
    "    \n",
    "\n",
    "  def predict(self, W_trained, X_sample):\n",
    "    prediction = sum(W_trained * X_sample)\n",
    "    return prediction\n",
    "\n",
    " \n"
   ]
  },
  {
   "cell_type": "code",
   "execution_count": 13,
   "id": "11c0bc37",
   "metadata": {},
   "outputs": [],
   "source": [
    "# Independent Feature\n",
    "X = np.asarray(df['Height(Inches)'].values.tolist())\n"
   ]
  },
  {
   "cell_type": "code",
   "execution_count": 14,
   "id": "7f60e3c4",
   "metadata": {},
   "outputs": [],
   "source": [
    "y = np.asarray(df['Weight(Pounds)'].values.tolist())"
   ]
  },
  {
   "cell_type": "code",
   "execution_count": 15,
   "id": "6794c5db",
   "metadata": {},
   "outputs": [],
   "source": [
    "# Reshaping the independent feature\n",
    "X = X.reshape(-1,1)"
   ]
  },
  {
   "cell_type": "code",
   "execution_count": 16,
   "id": "b48f7934",
   "metadata": {},
   "outputs": [
    {
     "data": {
      "text/plain": [
       "array([[65.78331],\n",
       "       [71.51521],\n",
       "       [69.39874],\n",
       "       ...,\n",
       "       [64.69855],\n",
       "       [67.52918],\n",
       "       [68.87761]])"
      ]
     },
     "execution_count": 16,
     "metadata": {},
     "output_type": "execute_result"
    }
   ],
   "source": [
    "X"
   ]
  },
  {
   "cell_type": "code",
   "execution_count": 17,
   "id": "22a3f202",
   "metadata": {},
   "outputs": [],
   "source": [
    "#Adding the feature X0 = 1, so we have the equation: y =  W0 + (W1 * X1) + (W2 * (X1**2))\n",
    "X = np.concatenate((X,np.ones((25000,1))), axis = 1)\n"
   ]
  },
  {
   "cell_type": "code",
   "execution_count": 18,
   "id": "06ec56f5",
   "metadata": {},
   "outputs": [
    {
     "data": {
      "text/plain": [
       "array([[65.78331,  1.     ],\n",
       "       [71.51521,  1.     ],\n",
       "       [69.39874,  1.     ],\n",
       "       ...,\n",
       "       [64.69855,  1.     ],\n",
       "       [67.52918,  1.     ],\n",
       "       [68.87761,  1.     ]])"
      ]
     },
     "execution_count": 18,
     "metadata": {},
     "output_type": "execute_result"
    }
   ],
   "source": [
    "X"
   ]
  },
  {
   "cell_type": "code",
   "execution_count": 19,
   "id": "1cc14b5e",
   "metadata": {},
   "outputs": [
    {
     "data": {
      "text/plain": [
       "array([112.9925, 136.4873, 153.0269, ..., 118.2655, 132.2682, 124.8742])"
      ]
     },
     "execution_count": 19,
     "metadata": {},
     "output_type": "execute_result"
    }
   ],
   "source": [
    "y"
   ]
  },
  {
   "cell_type": "code",
   "execution_count": 20,
   "id": "6711422b",
   "metadata": {},
   "outputs": [],
   "source": [
    "#Splitting the dataset\n",
    "X_train, y_train, X_test, y_test = split_data(X,y)"
   ]
  },
  {
   "cell_type": "code",
   "execution_count": 21,
   "id": "c0598220",
   "metadata": {},
   "outputs": [],
   "source": [
    "#declaring the \"regressor\" as an object of the class polynomialRegression\n",
    "regressor = polynomialRegression()"
   ]
  },
  {
   "cell_type": "code",
   "execution_count": 22,
   "id": "cc63cdcb",
   "metadata": {},
   "outputs": [],
   "source": [
    "#Training \n",
    "W_trained,train_loss, num_epochs = regressor.train(X_train, y_train, epochs=200, alpha=0.00001)"
   ]
  },
  {
   "cell_type": "code",
   "execution_count": 23,
   "id": "797676da",
   "metadata": {},
   "outputs": [],
   "source": [
    "#Testing on the Test Dataset\n",
    "test_pred, test_loss = regressor.test(X_test, y_test, W_trained)"
   ]
  },
  {
   "cell_type": "code",
   "execution_count": 24,
   "id": "7ad65f56",
   "metadata": {},
   "outputs": [],
   "source": [
    "y_pred = regressor.train(X_test,y)"
   ]
  },
  {
   "cell_type": "code",
   "execution_count": 25,
   "id": "fc22a2d3",
   "metadata": {},
   "outputs": [],
   "source": [
    "def mse(X ,y):\n",
    "    return np.mean((X - y) ** 2)"
   ]
  },
  {
   "cell_type": "code",
   "execution_count": 26,
   "id": "fc3e0723",
   "metadata": {},
   "outputs": [],
   "source": [
    "y_test.shape\n",
    "y_pred = np.array(y_pred)\n"
   ]
  },
  {
   "cell_type": "code",
   "execution_count": 27,
   "id": "1612e20c",
   "metadata": {},
   "outputs": [],
   "source": [
    "y_pred = regressor.predict(W_trained,X_sample=5)"
   ]
  },
  {
   "cell_type": "code",
   "execution_count": 28,
   "id": "4633bcb4",
   "metadata": {},
   "outputs": [
    {
     "name": "stdout",
     "output_type": "stream",
     "text": [
      "MSE: 16957.89656694449\n"
     ]
    }
   ],
   "source": [
    "# compute the mean squared error between the predicted and true values\n",
    "\n",
    "mse_score = np.sum((y_test-y_pred)**2)/len(y_test)\n",
    "print('MSE:', mse_score)"
   ]
  },
  {
   "cell_type": "code",
   "execution_count": 29,
   "id": "fc2da7b4",
   "metadata": {},
   "outputs": [],
   "source": [
    "import pickle"
   ]
  },
  {
   "cell_type": "code",
   "execution_count": 30,
   "id": "6602e1d5",
   "metadata": {},
   "outputs": [],
   "source": [
    "model = open('poly.pkl','wb')\n",
    "model = pickle.dump(regressor,model)"
   ]
  },
  {
   "cell_type": "code",
   "execution_count": null,
   "id": "0639039d",
   "metadata": {},
   "outputs": [],
   "source": []
  }
 ],
 "metadata": {
  "kernelspec": {
   "display_name": "Python 3 (ipykernel)",
   "language": "python",
   "name": "python3"
  },
  "language_info": {
   "codemirror_mode": {
    "name": "ipython",
    "version": 3
   },
   "file_extension": ".py",
   "mimetype": "text/x-python",
   "name": "python",
   "nbconvert_exporter": "python",
   "pygments_lexer": "ipython3",
   "version": "3.9.12"
  },
  "vscode": {
   "interpreter": {
    "hash": "643a47424beb36352ffe22be6206234b6bc868893f6b52b5682a155db092888b"
   }
  }
 },
 "nbformat": 4,
 "nbformat_minor": 5
}
