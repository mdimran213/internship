{
  "nbformat": 4,
  "nbformat_minor": 0,
  "metadata": {
    "colab": {
      "provenance": []
    },
    "kernelspec": {
      "name": "python3",
      "display_name": "Python 3"
    },
    "language_info": {
      "name": "python"
    }
  },
  "cells": [
    {
      "cell_type": "code",
      "execution_count": 44,
      "metadata": {
        "id": "WgOQvFk1ODBJ"
      },
      "outputs": [],
      "source": [
        "import pandas as pd\n",
        "import numpy as np\n",
        "import warnings\n",
        "warnings.filterwarnings('ignore')\n"
      ]
    },
    {
      "cell_type": "code",
      "source": [
        "df = pd.read_csv('SOCR-HeightWeight.csv')"
      ],
      "metadata": {
        "id": "SGZ5iAuzOXSx"
      },
      "execution_count": 45,
      "outputs": []
    },
    {
      "cell_type": "code",
      "source": [
        "df.head()"
      ],
      "metadata": {
        "colab": {
          "base_uri": "https://localhost:8080/",
          "height": 206
        },
        "id": "YC2-nDh9OiAT",
        "outputId": "ca905db0-7684-45a0-f64d-bf6c41d2c476"
      },
      "execution_count": 46,
      "outputs": [
        {
          "output_type": "execute_result",
          "data": {
            "text/plain": [
              "   Index  Height(Inches)  Weight(Pounds)\n",
              "0      1        65.78331        112.9925\n",
              "1      2        71.51521        136.4873\n",
              "2      3        69.39874        153.0269\n",
              "3      4        68.21660        142.3354\n",
              "4      5        67.78781        144.2971"
            ],
            "text/html": [
              "\n",
              "  <div id=\"df-10de91ab-79f8-4295-bcb6-d4f76369466d\">\n",
              "    <div class=\"colab-df-container\">\n",
              "      <div>\n",
              "<style scoped>\n",
              "    .dataframe tbody tr th:only-of-type {\n",
              "        vertical-align: middle;\n",
              "    }\n",
              "\n",
              "    .dataframe tbody tr th {\n",
              "        vertical-align: top;\n",
              "    }\n",
              "\n",
              "    .dataframe thead th {\n",
              "        text-align: right;\n",
              "    }\n",
              "</style>\n",
              "<table border=\"1\" class=\"dataframe\">\n",
              "  <thead>\n",
              "    <tr style=\"text-align: right;\">\n",
              "      <th></th>\n",
              "      <th>Index</th>\n",
              "      <th>Height(Inches)</th>\n",
              "      <th>Weight(Pounds)</th>\n",
              "    </tr>\n",
              "  </thead>\n",
              "  <tbody>\n",
              "    <tr>\n",
              "      <th>0</th>\n",
              "      <td>1</td>\n",
              "      <td>65.78331</td>\n",
              "      <td>112.9925</td>\n",
              "    </tr>\n",
              "    <tr>\n",
              "      <th>1</th>\n",
              "      <td>2</td>\n",
              "      <td>71.51521</td>\n",
              "      <td>136.4873</td>\n",
              "    </tr>\n",
              "    <tr>\n",
              "      <th>2</th>\n",
              "      <td>3</td>\n",
              "      <td>69.39874</td>\n",
              "      <td>153.0269</td>\n",
              "    </tr>\n",
              "    <tr>\n",
              "      <th>3</th>\n",
              "      <td>4</td>\n",
              "      <td>68.21660</td>\n",
              "      <td>142.3354</td>\n",
              "    </tr>\n",
              "    <tr>\n",
              "      <th>4</th>\n",
              "      <td>5</td>\n",
              "      <td>67.78781</td>\n",
              "      <td>144.2971</td>\n",
              "    </tr>\n",
              "  </tbody>\n",
              "</table>\n",
              "</div>\n",
              "      <button class=\"colab-df-convert\" onclick=\"convertToInteractive('df-10de91ab-79f8-4295-bcb6-d4f76369466d')\"\n",
              "              title=\"Convert this dataframe to an interactive table.\"\n",
              "              style=\"display:none;\">\n",
              "        \n",
              "  <svg xmlns=\"http://www.w3.org/2000/svg\" height=\"24px\"viewBox=\"0 0 24 24\"\n",
              "       width=\"24px\">\n",
              "    <path d=\"M0 0h24v24H0V0z\" fill=\"none\"/>\n",
              "    <path d=\"M18.56 5.44l.94 2.06.94-2.06 2.06-.94-2.06-.94-.94-2.06-.94 2.06-2.06.94zm-11 1L8.5 8.5l.94-2.06 2.06-.94-2.06-.94L8.5 2.5l-.94 2.06-2.06.94zm10 10l.94 2.06.94-2.06 2.06-.94-2.06-.94-.94-2.06-.94 2.06-2.06.94z\"/><path d=\"M17.41 7.96l-1.37-1.37c-.4-.4-.92-.59-1.43-.59-.52 0-1.04.2-1.43.59L10.3 9.45l-7.72 7.72c-.78.78-.78 2.05 0 2.83L4 21.41c.39.39.9.59 1.41.59.51 0 1.02-.2 1.41-.59l7.78-7.78 2.81-2.81c.8-.78.8-2.07 0-2.86zM5.41 20L4 18.59l7.72-7.72 1.47 1.35L5.41 20z\"/>\n",
              "  </svg>\n",
              "      </button>\n",
              "      \n",
              "  <style>\n",
              "    .colab-df-container {\n",
              "      display:flex;\n",
              "      flex-wrap:wrap;\n",
              "      gap: 12px;\n",
              "    }\n",
              "\n",
              "    .colab-df-convert {\n",
              "      background-color: #E8F0FE;\n",
              "      border: none;\n",
              "      border-radius: 50%;\n",
              "      cursor: pointer;\n",
              "      display: none;\n",
              "      fill: #1967D2;\n",
              "      height: 32px;\n",
              "      padding: 0 0 0 0;\n",
              "      width: 32px;\n",
              "    }\n",
              "\n",
              "    .colab-df-convert:hover {\n",
              "      background-color: #E2EBFA;\n",
              "      box-shadow: 0px 1px 2px rgba(60, 64, 67, 0.3), 0px 1px 3px 1px rgba(60, 64, 67, 0.15);\n",
              "      fill: #174EA6;\n",
              "    }\n",
              "\n",
              "    [theme=dark] .colab-df-convert {\n",
              "      background-color: #3B4455;\n",
              "      fill: #D2E3FC;\n",
              "    }\n",
              "\n",
              "    [theme=dark] .colab-df-convert:hover {\n",
              "      background-color: #434B5C;\n",
              "      box-shadow: 0px 1px 3px 1px rgba(0, 0, 0, 0.15);\n",
              "      filter: drop-shadow(0px 1px 2px rgba(0, 0, 0, 0.3));\n",
              "      fill: #FFFFFF;\n",
              "    }\n",
              "  </style>\n",
              "\n",
              "      <script>\n",
              "        const buttonEl =\n",
              "          document.querySelector('#df-10de91ab-79f8-4295-bcb6-d4f76369466d button.colab-df-convert');\n",
              "        buttonEl.style.display =\n",
              "          google.colab.kernel.accessAllowed ? 'block' : 'none';\n",
              "\n",
              "        async function convertToInteractive(key) {\n",
              "          const element = document.querySelector('#df-10de91ab-79f8-4295-bcb6-d4f76369466d');\n",
              "          const dataTable =\n",
              "            await google.colab.kernel.invokeFunction('convertToInteractive',\n",
              "                                                     [key], {});\n",
              "          if (!dataTable) return;\n",
              "\n",
              "          const docLinkHtml = 'Like what you see? Visit the ' +\n",
              "            '<a target=\"_blank\" href=https://colab.research.google.com/notebooks/data_table.ipynb>data table notebook</a>'\n",
              "            + ' to learn more about interactive tables.';\n",
              "          element.innerHTML = '';\n",
              "          dataTable['output_type'] = 'display_data';\n",
              "          await google.colab.output.renderOutput(dataTable, element);\n",
              "          const docLink = document.createElement('div');\n",
              "          docLink.innerHTML = docLinkHtml;\n",
              "          element.appendChild(docLink);\n",
              "        }\n",
              "      </script>\n",
              "    </div>\n",
              "  </div>\n",
              "  "
            ]
          },
          "metadata": {},
          "execution_count": 46
        }
      ]
    },
    {
      "cell_type": "code",
      "source": [
        "df.info()"
      ],
      "metadata": {
        "colab": {
          "base_uri": "https://localhost:8080/"
        },
        "id": "dnEByEwvOkpa",
        "outputId": "738f0828-7802-41b3-d759-8adfeb1f6189"
      },
      "execution_count": 47,
      "outputs": [
        {
          "output_type": "stream",
          "name": "stdout",
          "text": [
            "<class 'pandas.core.frame.DataFrame'>\n",
            "RangeIndex: 25000 entries, 0 to 24999\n",
            "Data columns (total 3 columns):\n",
            " #   Column          Non-Null Count  Dtype  \n",
            "---  ------          --------------  -----  \n",
            " 0   Index           25000 non-null  int64  \n",
            " 1   Height(Inches)  25000 non-null  float64\n",
            " 2   Weight(Pounds)  25000 non-null  float64\n",
            "dtypes: float64(2), int64(1)\n",
            "memory usage: 586.1 KB\n"
          ]
        }
      ]
    },
    {
      "cell_type": "code",
      "source": [
        "df.describe()"
      ],
      "metadata": {
        "colab": {
          "base_uri": "https://localhost:8080/",
          "height": 300
        },
        "id": "7anD7lA5s0OX",
        "outputId": "8d2864e0-a509-40ad-fc88-1b2c501a62e5"
      },
      "execution_count": 48,
      "outputs": [
        {
          "output_type": "execute_result",
          "data": {
            "text/plain": [
              "              Index  Height(Inches)  Weight(Pounds)\n",
              "count  25000.000000    25000.000000    25000.000000\n",
              "mean   12500.500000       67.993114      127.079421\n",
              "std     7217.022701        1.901679       11.660898\n",
              "min        1.000000       60.278360       78.014760\n",
              "25%     6250.750000       66.704397      119.308675\n",
              "50%    12500.500000       67.995700      127.157750\n",
              "75%    18750.250000       69.272958      134.892850\n",
              "max    25000.000000       75.152800      170.924000"
            ],
            "text/html": [
              "\n",
              "  <div id=\"df-ea17db0e-1058-4be0-93a9-06d773698c3f\">\n",
              "    <div class=\"colab-df-container\">\n",
              "      <div>\n",
              "<style scoped>\n",
              "    .dataframe tbody tr th:only-of-type {\n",
              "        vertical-align: middle;\n",
              "    }\n",
              "\n",
              "    .dataframe tbody tr th {\n",
              "        vertical-align: top;\n",
              "    }\n",
              "\n",
              "    .dataframe thead th {\n",
              "        text-align: right;\n",
              "    }\n",
              "</style>\n",
              "<table border=\"1\" class=\"dataframe\">\n",
              "  <thead>\n",
              "    <tr style=\"text-align: right;\">\n",
              "      <th></th>\n",
              "      <th>Index</th>\n",
              "      <th>Height(Inches)</th>\n",
              "      <th>Weight(Pounds)</th>\n",
              "    </tr>\n",
              "  </thead>\n",
              "  <tbody>\n",
              "    <tr>\n",
              "      <th>count</th>\n",
              "      <td>25000.000000</td>\n",
              "      <td>25000.000000</td>\n",
              "      <td>25000.000000</td>\n",
              "    </tr>\n",
              "    <tr>\n",
              "      <th>mean</th>\n",
              "      <td>12500.500000</td>\n",
              "      <td>67.993114</td>\n",
              "      <td>127.079421</td>\n",
              "    </tr>\n",
              "    <tr>\n",
              "      <th>std</th>\n",
              "      <td>7217.022701</td>\n",
              "      <td>1.901679</td>\n",
              "      <td>11.660898</td>\n",
              "    </tr>\n",
              "    <tr>\n",
              "      <th>min</th>\n",
              "      <td>1.000000</td>\n",
              "      <td>60.278360</td>\n",
              "      <td>78.014760</td>\n",
              "    </tr>\n",
              "    <tr>\n",
              "      <th>25%</th>\n",
              "      <td>6250.750000</td>\n",
              "      <td>66.704397</td>\n",
              "      <td>119.308675</td>\n",
              "    </tr>\n",
              "    <tr>\n",
              "      <th>50%</th>\n",
              "      <td>12500.500000</td>\n",
              "      <td>67.995700</td>\n",
              "      <td>127.157750</td>\n",
              "    </tr>\n",
              "    <tr>\n",
              "      <th>75%</th>\n",
              "      <td>18750.250000</td>\n",
              "      <td>69.272958</td>\n",
              "      <td>134.892850</td>\n",
              "    </tr>\n",
              "    <tr>\n",
              "      <th>max</th>\n",
              "      <td>25000.000000</td>\n",
              "      <td>75.152800</td>\n",
              "      <td>170.924000</td>\n",
              "    </tr>\n",
              "  </tbody>\n",
              "</table>\n",
              "</div>\n",
              "      <button class=\"colab-df-convert\" onclick=\"convertToInteractive('df-ea17db0e-1058-4be0-93a9-06d773698c3f')\"\n",
              "              title=\"Convert this dataframe to an interactive table.\"\n",
              "              style=\"display:none;\">\n",
              "        \n",
              "  <svg xmlns=\"http://www.w3.org/2000/svg\" height=\"24px\"viewBox=\"0 0 24 24\"\n",
              "       width=\"24px\">\n",
              "    <path d=\"M0 0h24v24H0V0z\" fill=\"none\"/>\n",
              "    <path d=\"M18.56 5.44l.94 2.06.94-2.06 2.06-.94-2.06-.94-.94-2.06-.94 2.06-2.06.94zm-11 1L8.5 8.5l.94-2.06 2.06-.94-2.06-.94L8.5 2.5l-.94 2.06-2.06.94zm10 10l.94 2.06.94-2.06 2.06-.94-2.06-.94-.94-2.06-.94 2.06-2.06.94z\"/><path d=\"M17.41 7.96l-1.37-1.37c-.4-.4-.92-.59-1.43-.59-.52 0-1.04.2-1.43.59L10.3 9.45l-7.72 7.72c-.78.78-.78 2.05 0 2.83L4 21.41c.39.39.9.59 1.41.59.51 0 1.02-.2 1.41-.59l7.78-7.78 2.81-2.81c.8-.78.8-2.07 0-2.86zM5.41 20L4 18.59l7.72-7.72 1.47 1.35L5.41 20z\"/>\n",
              "  </svg>\n",
              "      </button>\n",
              "      \n",
              "  <style>\n",
              "    .colab-df-container {\n",
              "      display:flex;\n",
              "      flex-wrap:wrap;\n",
              "      gap: 12px;\n",
              "    }\n",
              "\n",
              "    .colab-df-convert {\n",
              "      background-color: #E8F0FE;\n",
              "      border: none;\n",
              "      border-radius: 50%;\n",
              "      cursor: pointer;\n",
              "      display: none;\n",
              "      fill: #1967D2;\n",
              "      height: 32px;\n",
              "      padding: 0 0 0 0;\n",
              "      width: 32px;\n",
              "    }\n",
              "\n",
              "    .colab-df-convert:hover {\n",
              "      background-color: #E2EBFA;\n",
              "      box-shadow: 0px 1px 2px rgba(60, 64, 67, 0.3), 0px 1px 3px 1px rgba(60, 64, 67, 0.15);\n",
              "      fill: #174EA6;\n",
              "    }\n",
              "\n",
              "    [theme=dark] .colab-df-convert {\n",
              "      background-color: #3B4455;\n",
              "      fill: #D2E3FC;\n",
              "    }\n",
              "\n",
              "    [theme=dark] .colab-df-convert:hover {\n",
              "      background-color: #434B5C;\n",
              "      box-shadow: 0px 1px 3px 1px rgba(0, 0, 0, 0.15);\n",
              "      filter: drop-shadow(0px 1px 2px rgba(0, 0, 0, 0.3));\n",
              "      fill: #FFFFFF;\n",
              "    }\n",
              "  </style>\n",
              "\n",
              "      <script>\n",
              "        const buttonEl =\n",
              "          document.querySelector('#df-ea17db0e-1058-4be0-93a9-06d773698c3f button.colab-df-convert');\n",
              "        buttonEl.style.display =\n",
              "          google.colab.kernel.accessAllowed ? 'block' : 'none';\n",
              "\n",
              "        async function convertToInteractive(key) {\n",
              "          const element = document.querySelector('#df-ea17db0e-1058-4be0-93a9-06d773698c3f');\n",
              "          const dataTable =\n",
              "            await google.colab.kernel.invokeFunction('convertToInteractive',\n",
              "                                                     [key], {});\n",
              "          if (!dataTable) return;\n",
              "\n",
              "          const docLinkHtml = 'Like what you see? Visit the ' +\n",
              "            '<a target=\"_blank\" href=https://colab.research.google.com/notebooks/data_table.ipynb>data table notebook</a>'\n",
              "            + ' to learn more about interactive tables.';\n",
              "          element.innerHTML = '';\n",
              "          dataTable['output_type'] = 'display_data';\n",
              "          await google.colab.output.renderOutput(dataTable, element);\n",
              "          const docLink = document.createElement('div');\n",
              "          docLink.innerHTML = docLinkHtml;\n",
              "          element.appendChild(docLink);\n",
              "        }\n",
              "      </script>\n",
              "    </div>\n",
              "  </div>\n",
              "  "
            ]
          },
          "metadata": {},
          "execution_count": 48
        }
      ]
    },
    {
      "cell_type": "code",
      "source": [
        "df.shape"
      ],
      "metadata": {
        "colab": {
          "base_uri": "https://localhost:8080/"
        },
        "id": "A02W3J8ieyfp",
        "outputId": "a45ebc3c-a7ee-4776-de49-8004f3fbbfc3"
      },
      "execution_count": 49,
      "outputs": [
        {
          "output_type": "execute_result",
          "data": {
            "text/plain": [
              "(25000, 3)"
            ]
          },
          "metadata": {},
          "execution_count": 49
        }
      ]
    },
    {
      "cell_type": "code",
      "source": [
        " #Separating the independent and dependent features\n",
        "#Dependent feature\n",
        "y = np.asarray(df['Weight(Pounds)'].values.tolist()) \n",
        "\n",
        "# Independent Feature\n",
        "X = np.asarray(df['Height(Inches)'].values.tolist())"
      ],
      "metadata": {
        "id": "5RAURR-xOw0l"
      },
      "execution_count": 50,
      "outputs": []
    },
    {
      "cell_type": "code",
      "source": [
        "# Reshaping the independent feature\n",
        "X = X.reshape(-1,1)"
      ],
      "metadata": {
        "id": "GMoFQtdNO0sN"
      },
      "execution_count": 51,
      "outputs": []
    },
    {
      "cell_type": "code",
      "source": [
        "#Reshaping the Dependent features\n",
        "y = y.reshape(len(y),1 ) # Changing the shape from (50,) to (50,1)"
      ],
      "metadata": {
        "id": "cJMpzr9lO4cB"
      },
      "execution_count": 52,
      "outputs": []
    },
    {
      "cell_type": "code",
      "source": [
        "#Get the shapes of X and y\n",
        "print(\"The shape of the independent fatures are \",X.shape)\n",
        "print(\"The shape of the dependent fatures are \",y.shape)"
      ],
      "metadata": {
        "colab": {
          "base_uri": "https://localhost:8080/"
        },
        "id": "D6SsOu_aO7wZ",
        "outputId": "4e608be1-68a5-4d35-e3bb-fb599b533975"
      },
      "execution_count": 53,
      "outputs": [
        {
          "output_type": "stream",
          "name": "stdout",
          "text": [
            "The shape of the independent fatures are  (25000, 1)\n",
            "The shape of the dependent fatures are  (25000, 1)\n"
          ]
        }
      ]
    },
    {
      "cell_type": "code",
      "source": [
        " #The method \"poly_features\" concatenates polynomials of independent feature to X\n",
        "# This is similar to PolynomialFeatures class from sklearn.preprocessing\n",
        "def poly_features(features, X):\n",
        "  data = pd.DataFrame(np.zeros((X.shape[0],features)))\n",
        "  for i in range(1,features+1):\n",
        "    data.iloc[:,i-1] = (X**i).reshape(-1,1)\n",
        "  X_poly = np.array(data.values.tolist())\n",
        "  return X_poly"
      ],
      "metadata": {
        "id": "Dt4see6KO-qv"
      },
      "execution_count": 54,
      "outputs": []
    },
    {
      "cell_type": "code",
      "source": [
        "# The method \"split_data\" splits the given dataset into trainset and testset\n",
        "# This is similar to the method \"train_test_split\" from \"sklearn.model_selection\"\n",
        "def split_data(X,y,test_size=0.2,random_state=0):\n",
        "    np.random.seed(random_state)                  #set the seed for reproducible results\n",
        "    indices = np.random.permutation(len(X))       #shuffling the indices\n",
        "    data_test_size = int(X.shape[0] * test_size)  #Get the test size\n",
        "\n",
        "    #Separating the Independent and Dependent features into the Train and Test Set\n",
        "    train_indices = indices[data_test_size:]\n",
        "    test_indices = indices[:data_test_size]\n",
        "    X_train = X[train_indices]\n",
        "    y_train = y[train_indices]\n",
        "    X_test = X[test_indices]\n",
        "    y_test = y[test_indices]\n",
        "    return X_train, y_train, X_test, y_test"
      ],
      "metadata": {
        "id": "2yvsgtFFPB5e"
      },
      "execution_count": 55,
      "outputs": []
    },
    {
      "cell_type": "code",
      "source": [
        "class polynomialRegression():\n",
        "\n",
        "  def __init__(self):\n",
        "    #No instance Variables required\n",
        "    pass\n",
        "\n",
        "  def forward(self,X,y,W):\n",
        "    \"\"\"\n",
        "    Parameters:\n",
        "    X (array) : Independent Features\n",
        "    y (array) : Dependent Features/ Target Variable\n",
        "    W (array) : Weights \n",
        "\n",
        "    Returns:\n",
        "    loss (float) : Calculated Sqaured Error Loss for y and y_pred\n",
        "    y_pred (array) : Predicted Target Variable\n",
        "    \"\"\"\n",
        "    y_pred = sum(W * X)\n",
        "    loss = ((y_pred-y)**2)/2    #Loss = Squared Error, we introduce 1/2 for ease in the calculation\n",
        "    return loss, y_pred\n",
        "\n",
        "  def updateWeights(self,X,y_pred,y_true,W,alpha,index):\n",
        "    \"\"\"\n",
        "    Parameters:\n",
        "    X (array) : Independent Features\n",
        "    y_pred (array) : Predicted Target Variable\n",
        "    y_true (array) : Dependent Features/ Target Variable\n",
        "    W (array) : Weights\n",
        "    alpha (float) : learning rate\n",
        "    index (int) : Index to fetch the corresponding values of W, X and y \n",
        "\n",
        "    Returns:\n",
        "    W (array) : Update Values of Weight\n",
        "    \"\"\"\n",
        "    for i in range(X.shape[1]):\n",
        "      #alpha = learning rate, rest of the RHS is derivative of loss function\n",
        "      W[i] -= (alpha * (y_pred-y_true[index])*X[index][i]) \n",
        "    return W\n",
        "\n",
        "  def train(self, X, y, epochs=10, alpha=0.001, random_state=0):\n",
        "    \"\"\"\n",
        "    Parameters:\n",
        "    X (array) : Independent Feature\n",
        "    y (array) : Dependent Features/ Target Variable\n",
        "    epochs (int) : Number of epochs for training, default value is 10\n",
        "    alpha (float) : learning rate, default value is 0.001\n",
        "\n",
        "    Returns:\n",
        "    y_pred (array) : Predicted Target Variable\n",
        "    loss (float) : Calculated Sqaured Error Loss for y and y_pred\n",
        "    \"\"\"\n",
        "\n",
        "    num_rows = X.shape[0] #Number of Rows \n",
        "    num_cols = X.shape[1] #Number of Columns \n",
        "    W = np.random.randn(1,num_cols) / np.sqrt(num_rows) #Weight Initialization\n",
        "\n",
        "    #Calculating Loss and Updating Weights\n",
        "    train_loss = []\n",
        "    num_epochs = []\n",
        "    train_indices = [i for i in range(X.shape[0])]\n",
        "    for j in range(epochs):\n",
        "      cost=0\n",
        "      np.random.seed(random_state)\n",
        "      np.random.shuffle(train_indices)\n",
        "      for i in train_indices:\n",
        "        loss, y_pred = self.forward(X[i],y[i],W[0])\n",
        "        cost+=loss\n",
        "        W[0] = self.updateWeights(X,y_pred,y,W[0],alpha,i)\n",
        "      train_loss.append(cost)\n",
        "      num_epochs.append(j)\n",
        "    return W[0], train_loss, num_epochs\n",
        "\n",
        "  def test(self, X_test, y_test, W_trained):\n",
        "    \"\"\"\n",
        "    Parameters:\n",
        "    X_test (array) : Independent Features from the Test Set\n",
        "    y_test (array) : Dependent Features/ Target Variable from the Test Set\n",
        "    W_trained (array) : Trained Weights\n",
        "    test_indices (list) : Index to fetch the corresponding values of W_trained,\n",
        "                          X_test and y_test \n",
        "\n",
        "    Returns:\n",
        "    test_pred (list) : Predicted Target Variable\n",
        "    test_loss (list) : Calculated Sqaured Error Loss for y and y_pred\n",
        "    \"\"\"\n",
        "    test_pred = []\n",
        "    test_loss = []\n",
        "    test_indices = [i for i in range(X_test.shape[0])]\n",
        "    for i in test_indices:\n",
        "        loss, y_test_pred = self.forward(X_test[i], W_trained, y_test[i])\n",
        "        test_pred.append(y_test_pred)\n",
        "        test_loss.append(loss)\n",
        "    return test_pred, test_loss\n",
        "    \n",
        "\n",
        "  def predict(self, W_trained, X_sample):\n",
        "    prediction = sum(W_trained * X_sample)\n",
        "    return prediction"
      ],
      "metadata": {
        "id": "xNCIq5x5PE6-"
      },
      "execution_count": 56,
      "outputs": []
    },
    {
      "cell_type": "code",
      "source": [
        "# Independent Feature\n",
        "X = np.asarray(df['Height(Inches)'].values.tolist())\n"
      ],
      "metadata": {
        "id": "9pdero8DPMWq"
      },
      "execution_count": 57,
      "outputs": []
    },
    {
      "cell_type": "code",
      "source": [
        "y = np.asarray(df['Weight(Pounds)'].values.tolist())"
      ],
      "metadata": {
        "id": "VUuEIMTiPPA5"
      },
      "execution_count": 58,
      "outputs": []
    },
    {
      "cell_type": "code",
      "source": [
        "# Reshaping the independent feature\n",
        "X = X.reshape(-1,1)"
      ],
      "metadata": {
        "id": "xSfRe320PSV8"
      },
      "execution_count": 59,
      "outputs": []
    },
    {
      "cell_type": "code",
      "source": [
        "X"
      ],
      "metadata": {
        "colab": {
          "base_uri": "https://localhost:8080/"
        },
        "id": "BvrS1Eb1PVIU",
        "outputId": "375052a3-253c-4735-8ad2-85158b959b94"
      },
      "execution_count": 60,
      "outputs": [
        {
          "output_type": "execute_result",
          "data": {
            "text/plain": [
              "array([[65.78331],\n",
              "       [71.51521],\n",
              "       [69.39874],\n",
              "       ...,\n",
              "       [64.69855],\n",
              "       [67.52918],\n",
              "       [68.87761]])"
            ]
          },
          "metadata": {},
          "execution_count": 60
        }
      ]
    },
    {
      "cell_type": "code",
      "source": [
        "#Adding the feature X0 = 1, so we have the equation: y =  W0 + (W1 * X1) + (W2 * (X1**2))\n",
        "X = np.concatenate((X,np.ones((25000,1))), axis = 1)"
      ],
      "metadata": {
        "id": "2y4rYmvUPXwg"
      },
      "execution_count": 61,
      "outputs": []
    },
    {
      "cell_type": "code",
      "source": [
        "X"
      ],
      "metadata": {
        "colab": {
          "base_uri": "https://localhost:8080/"
        },
        "id": "98WedR1CPa7J",
        "outputId": "da3b0e56-6186-4403-830d-3783a3269bf1"
      },
      "execution_count": 62,
      "outputs": [
        {
          "output_type": "execute_result",
          "data": {
            "text/plain": [
              "array([[65.78331,  1.     ],\n",
              "       [71.51521,  1.     ],\n",
              "       [69.39874,  1.     ],\n",
              "       ...,\n",
              "       [64.69855,  1.     ],\n",
              "       [67.52918,  1.     ],\n",
              "       [68.87761,  1.     ]])"
            ]
          },
          "metadata": {},
          "execution_count": 62
        }
      ]
    },
    {
      "cell_type": "code",
      "source": [
        "y"
      ],
      "metadata": {
        "colab": {
          "base_uri": "https://localhost:8080/"
        },
        "id": "LwDt2xkPPdvj",
        "outputId": "eef60595-55fa-445c-f6f6-82ef0f128846"
      },
      "execution_count": 63,
      "outputs": [
        {
          "output_type": "execute_result",
          "data": {
            "text/plain": [
              "array([112.9925, 136.4873, 153.0269, ..., 118.2655, 132.2682, 124.8742])"
            ]
          },
          "metadata": {},
          "execution_count": 63
        }
      ]
    },
    {
      "cell_type": "code",
      "source": [
        "#Splitting the dataset\n",
        "X_train, y_train, X_test, y_test = split_data(X,y)"
      ],
      "metadata": {
        "id": "EPKCZQnXPhq5"
      },
      "execution_count": 64,
      "outputs": []
    },
    {
      "cell_type": "code",
      "source": [
        "#declaring the \"regressor\" as an object of the class polynomialRegression\n",
        "regressor = polynomialRegression()"
      ],
      "metadata": {
        "id": "anrHVNhAPkuG"
      },
      "execution_count": 65,
      "outputs": []
    },
    {
      "cell_type": "code",
      "source": [
        "#Training \n",
        "W_trained,train_loss, num_epochs = regressor.train(X_train, y_train, epochs=100, alpha=0.00001)"
      ],
      "metadata": {
        "id": "j3BrN_hzPnuq"
      },
      "execution_count": 66,
      "outputs": []
    },
    {
      "cell_type": "code",
      "source": [
        "#Testing on the Test Dataset\n",
        "test_pred, test_loss = regressor.test(X_test, y_test, W_trained)"
      ],
      "metadata": {
        "id": "F7juCfzqGuAp"
      },
      "execution_count": 67,
      "outputs": []
    },
    {
      "cell_type": "code",
      "source": [
        "y_pred = regressor.train(X_test,y)"
      ],
      "metadata": {
        "id": "k0BRADYDPu2a"
      },
      "execution_count": 68,
      "outputs": []
    },
    {
      "cell_type": "code",
      "source": [
        "def mse(X ,y):\n",
        "    return np.mean((X - y) ** 2)"
      ],
      "metadata": {
        "id": "YX97mOBBPvD6"
      },
      "execution_count": 69,
      "outputs": []
    },
    {
      "cell_type": "code",
      "source": [
        "y_test.shape\n",
        "y_pred = np.array(y_pred)\n"
      ],
      "metadata": {
        "id": "MTmBYziUPvGm"
      },
      "execution_count": 70,
      "outputs": []
    },
    {
      "cell_type": "code",
      "source": [
        "y_pred = regressor.predict(W_trained,X_sample=5)"
      ],
      "metadata": {
        "id": "LqlbFhiZPvJ8"
      },
      "execution_count": 71,
      "outputs": []
    },
    {
      "cell_type": "code",
      "source": [
        "# compute the mean squared error between the predicted and true values\n",
        "\n",
        "mse_score = np.sum((y_test-y_pred)**2)/len(y_test)\n",
        "print('MSE:', mse_score)"
      ],
      "metadata": {
        "colab": {
          "base_uri": "https://localhost:8080/"
        },
        "id": "fpg9HIEpP_Uw",
        "outputId": "3a00e8e2-99d8-4026-a8ec-9d1bd56ab653"
      },
      "execution_count": 72,
      "outputs": [
        {
          "output_type": "stream",
          "name": "stdout",
          "text": [
            "MSE: 15426.975092188271\n"
          ]
        }
      ]
    },
    {
      "cell_type": "code",
      "source": [
        "# Calculate the mean of the actual values\n",
        "y_mean = np.mean(y_test)\n",
        "\n",
        "# Calculate the total sum of squares (TSS)\n",
        "\n",
        "TSS = np.sum(y_test - y_pred)\n",
        "# Calculate the residual sum of squares (RSS)\n",
        "RSS = np.sum((y_mean - y_pred) ** 2)\n",
        "\n",
        "# Calculate the R-squared (coefficient of determination)\n",
        "R2 = 1 - RSS / TSS"
      ],
      "metadata": {
        "id": "GZtBsOMHQCq7"
      },
      "execution_count": 73,
      "outputs": []
    },
    {
      "cell_type": "code",
      "source": [
        "print(\"R-squared:\", R2)"
      ],
      "metadata": {
        "colab": {
          "base_uri": "https://localhost:8080/"
        },
        "id": "JtDebELhQGVu",
        "outputId": "77592ad7-68be-482b-b144-86762c0bfb81"
      },
      "execution_count": 74,
      "outputs": [
        {
          "output_type": "stream",
          "name": "stdout",
          "text": [
            "R-squared: 0.9752733058292795\n"
          ]
        }
      ]
    },
    {
      "cell_type": "code",
      "source": [
        "def poly_reg_grid_search(X_train, y_train, X_val, y_val, degrees, alpha_vals, learning_rates):\n",
        "    best_params = {}\n",
        "    best_score = float('inf')\n",
        "    \n",
        "    for degree in degrees:\n",
        "        for alpha in alpha_vals:\n",
        "            for learning_rate in learning_rates:\n",
        "                # Train polynomial regression model with current hyperparameters\n",
        "                X_train_poly = poly_features(degree, X_train)\n",
        "                X_val_poly = poly_features(degree, X_val)\n",
        "                model = polynomialRegression(X_train_poly, y_train, alpha, learning_rate)\n",
        "                \n",
        "                # Evaluate model on validation set\n",
        "                val_pred = model.predict(X_val_poly)\n",
        "                val_mse = mse(y_val, val_pred)\n",
        "                \n",
        "                # Store best hyperparameters and validation score\n",
        "                if val_mse < best_score:\n",
        "                    best_score = val_mse\n",
        "                    best_params = {'degree': degree, 'alpha': alpha, 'learning_rate': learning_rate}\n",
        "    \n",
        "    # Retrain model using best hyperparameters on full training set\n",
        "    X_train_poly = poly_features(best_params['degree'], X_train)\n",
        "    model = polynomialRegression(X_train_poly, y_train, best_params['alpha'], best_params['learning_rate'])\n",
        "    \n",
        "    return model, best_params, best_score\n"
      ],
      "metadata": {
        "id": "XyNTfHN6d1CM"
      },
      "execution_count": 75,
      "outputs": []
    },
    {
      "cell_type": "code",
      "source": [
        "# compute the mean squared error between the predicted and true values\n",
        "mse_score = np.sum((y_test-y_pred)**2)/len(y_test) \n",
        "print('MSE:', mse_score)\n"
      ],
      "metadata": {
        "colab": {
          "base_uri": "https://localhost:8080/"
        },
        "id": "G7ogGO9IeO7p",
        "outputId": "be23993a-8f05-43cd-c7a7-8b874d120e67"
      },
      "execution_count": 76,
      "outputs": [
        {
          "output_type": "stream",
          "name": "stdout",
          "text": [
            "MSE: 15426.975092188271\n"
          ]
        }
      ]
    },
    {
      "cell_type": "code",
      "source": [
        "# Calculate the mean of the actual values\n",
        "y_mean = np.mean(y_test)\n",
        "\n",
        "# Calculate the total sum of squares (TSS)\n",
        "\n",
        "TSS = np.sum(y_test - y_pred)\n",
        "# Calculate the residual su m of squares (RSS)\n",
        "RSS = np.sum((y_mean - y_pred) ** 2)\n",
        "\n",
        "# Calculate the R-squared (coefficient of determination)\n",
        "R2 = 1 - RSS / TSS"
      ],
      "metadata": {
        "id": "FP1OafPTeO6S"
      },
      "execution_count": 77,
      "outputs": []
    },
    {
      "cell_type": "code",
      "source": [
        "print(\"R-squared:\", R2)"
      ],
      "metadata": {
        "colab": {
          "base_uri": "https://localhost:8080/"
        },
        "id": "nQpE9p7SeO19",
        "outputId": "0276bba2-0dd8-48b8-9481-c80585e0a3b3"
      },
      "execution_count": 78,
      "outputs": [
        {
          "output_type": "stream",
          "name": "stdout",
          "text": [
            "R-squared: 0.9752733058292795\n"
          ]
        }
      ]
    },
    {
      "cell_type": "code",
      "source": [
        "\n",
        "\n",
        "\n",
        "def poly_reg_random_search(X_train, y_train, X_val, y_val, degrees, alpha_vals, learning_rates, num_iterations):\n",
        "    best_params = {}\n",
        "    best_score = float('inf')\n",
        "    \n",
        "    for i in range(num_iterations):\n",
        "        degree = random.choice(degrees)\n",
        "        alpha = random.choice(alpha_vals)\n",
        "        learning_rate = random.choice(learning_rates)\n",
        "        \n",
        "        # Train polynomial regression model with current hyperparameters\n",
        "        X_train_poly = poly_features(degree, X_train)\n",
        "        X_val_poly = poly_features(degree, X_val)\n",
        "        model = polynomialRegression(X_train_poly, y_train, alpha, learning_rate)\n",
        "        \n",
        "        # Evaluate model on validation set\n",
        "        val_pred = model.predict(X_val_poly)\n",
        "        val_mse = mean_squared_error(y_val, val_pred)\n",
        "        \n",
        "        # Store best hyperparameters and validation score\n",
        "        if val_mse < best_score:\n",
        "            best_score = val_mse\n",
        "            best_params = {'degree': degree, 'alpha': alpha, 'learning_rate': learning_rate}\n",
        "    \n",
        "    # Retrain model using best hyperparameters on full training set\n",
        "    X_train_poly = poly_features(best_params['degree'], X_train)\n",
        "    model = polynomialRegression(X_train_poly, y_train, best_params['alpha'], best_params['learning_rate'])\n",
        "    \n",
        "    return model, best_params, best_score\n"
      ],
      "metadata": {
        "id": "j2IAujUdeO0V"
      },
      "execution_count": 79,
      "outputs": []
    },
    {
      "cell_type": "code",
      "source": [
        "# compute the mean squared error between the predicted and true values\n",
        "\n",
        "mse_score = np.sum((y_test-y_pred)**2)/len(y_test)\n",
        "print('MSE:', mse_score)"
      ],
      "metadata": {
        "colab": {
          "base_uri": "https://localhost:8080/"
        },
        "id": "0jRfOcykeOu-",
        "outputId": "947ce3ec-4629-47b4-bd86-bce16e8a8a54"
      },
      "execution_count": 80,
      "outputs": [
        {
          "output_type": "stream",
          "name": "stdout",
          "text": [
            "MSE: 15426.975092188271\n"
          ]
        }
      ]
    },
    {
      "cell_type": "code",
      "source": [
        "# Calculate the mean of the actual values\n",
        "y_mean = np.mean(y_test)\n",
        "\n",
        "# Calculate the total sum of squares (TSS)\n",
        "\n",
        "TSS = np.sum(y_test - y_pred)\n",
        "# Calculate the residual su m of squares (RSS)\n",
        "RSS = np.sum((y_mean - y_pred) ** 2)\n",
        "\n",
        "# Calculate the R-squared (coefficient of determination)\n",
        "R2 = 1 - RSS / TSS"
      ],
      "metadata": {
        "id": "u2vMUE-StLRy"
      },
      "execution_count": 81,
      "outputs": []
    },
    {
      "cell_type": "code",
      "source": [
        "print(\"R-squared:\", R2)"
      ],
      "metadata": {
        "colab": {
          "base_uri": "https://localhost:8080/"
        },
        "id": "U3ikCqLAbyb1",
        "outputId": "b11de24f-07f9-421f-e0ec-7342265d20ca"
      },
      "execution_count": 82,
      "outputs": [
        {
          "output_type": "stream",
          "name": "stdout",
          "text": [
            "R-squared: 0.9752733058292795\n"
          ]
        }
      ]
    },
    {
      "cell_type": "code",
      "source": [],
      "metadata": {
        "id": "SBpS8CWQbzLn"
      },
      "execution_count": 82,
      "outputs": []
    }
  ]
}